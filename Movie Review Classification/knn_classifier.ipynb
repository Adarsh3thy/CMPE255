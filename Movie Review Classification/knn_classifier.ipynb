{
 "cells": [
  {
   "cell_type": "code",
   "execution_count": 164,
   "id": "d2117942",
   "metadata": {},
   "outputs": [
    {
     "name": "stderr",
     "output_type": "stream",
     "text": [
      "[nltk_data] Downloading package stopwords to\n",
      "[nltk_data]     C:\\Users\\Acer\\AppData\\Roaming\\nltk_data...\n",
      "[nltk_data]   Package stopwords is already up-to-date!\n",
      "[nltk_data] Downloading package wordnet to\n",
      "[nltk_data]     C:\\Users\\Acer\\AppData\\Roaming\\nltk_data...\n",
      "[nltk_data]   Package wordnet is already up-to-date!\n",
      "[nltk_data] Downloading package averaged_perceptron_tagger to\n",
      "[nltk_data]     C:\\Users\\Acer\\AppData\\Roaming\\nltk_data...\n",
      "[nltk_data]   Package averaged_perceptron_tagger is already up-to-\n",
      "[nltk_data]       date!\n"
     ]
    }
   ],
   "source": [
    "import nltk\n",
    "nltk.download('stopwords')\n",
    "nltk.download('wordnet')\n",
    "nltk.download('averaged_perceptron_tagger')\n",
    "import gensim\n",
    "from gensim.models import KeyedVectors\n",
    "\n",
    "\n",
    "import pandas as pd\n",
    "f_train = open('./data/train.dat',encoding=\"utf-8\")"
   ]
  },
  {
   "cell_type": "code",
   "execution_count": 165,
   "id": "5a00f33b",
   "metadata": {},
   "outputs": [],
   "source": [
    "from nltk.tag import pos_tag\n",
    "from nltk.corpus import wordnet\n",
    "from nltk.corpus.reader.wordnet import VERB, NOUN, ADJ, ADV\n",
    "from nltk.stem.wordnet import WordNetLemmatizer\n",
    "from collections import Counter\n",
    "from nltk.corpus import stopwords\n",
    "from sklearn.feature_extraction.text import ENGLISH_STOP_WORDS\n",
    "\n",
    "stop_words = stopwords.words('english')\n",
    "eng_stop_words=list(ENGLISH_STOP_WORDS)\n",
    "my_stop_words=['make','guy','really','think','watch','look','know','work','thing','want','start',\n",
    "               'doesn','lot','end','tell','year','get','eat','tfw','away','boy','girl','real','leave','action',\n",
    "               'come','name','series','movie','actor','story','film','htm','plot','trailer',\n",
    "               'woman','man','way','do','say','don','character','time','get','people','point','fact',\n",
    "               'scene','go','didn','let','isn','men','actress','age','flick','hollywood','actually',\n",
    "               'title','camera','hand','hour','director','feel','cast','act','play','set']\n",
    "eng_stop_words.extend(my_stop_words)\n",
    "stopwords_dict = Counter(stop_words)\n",
    "lemmatizer = WordNetLemmatizer()\n",
    "\n",
    "def get_wordnet_pos(treebank_tag):\n",
    "\n",
    "    if treebank_tag.startswith('J'):\n",
    "        return wordnet.ADJ\n",
    "    elif treebank_tag.startswith('V'):\n",
    "        return wordnet.VERB\n",
    "    elif treebank_tag.startswith('N'):\n",
    "        return wordnet.NOUN\n",
    "    elif treebank_tag.startswith('R'):\n",
    "        return wordnet.ADV\n",
    "    else:\n",
    "        return wordnet.NOUN\n",
    "    \n",
    "def stop_word_rem_and_lemmatization(text):\n",
    "    lemm_text=[]\n",
    "    from nltk.tokenize import word_tokenize\n",
    "    #stop_words_cleaned_text=[word for word in text.split() if word not in stopwords_dict]\n",
    "    \n",
    "    \n",
    "    for word,tag in pos_tag(text.split()):\n",
    "        lemm_text.append(lemmatizer.lemmatize(word, get_wordnet_pos(tag)))\n",
    "    lemm_text=[word for word in lemm_text if word not in eng_stop_words]\n",
    "    return \" \".join(lemm_text)\n",
    "\n",
    "    "
   ]
  },
  {
   "cell_type": "code",
   "execution_count": 166,
   "id": "fe15b55f",
   "metadata": {},
   "outputs": [],
   "source": [
    "import nltk\n",
    "from nltk.tokenize import word_tokenize\n",
    "from string import punctuation\n",
    "from nltk.stem import PorterStemmer    \n",
    "from nltk.corpus import stopwords\n",
    "import re\n",
    "from autocorrect import Speller\n",
    "\n",
    "ratings=[]\n",
    "\n",
    "def preprocessData(file):\n",
    "        processed_text=[]\n",
    "       \n",
    "        for line in file:\n",
    "            #remove <br /> tags and newline characters from text\n",
    "            sentence = line.replace('<br />','').strip('\\n').split('\\t')\n",
    "            \n",
    "            if(len(sentence)==2):\n",
    "                ratings.append(sentence[0])\n",
    "                #convert text to lowercase\n",
    "                sentence=sentence[1].lower()\n",
    "            else:\n",
    "                sentence=sentence[0].lower()\n",
    "                \n",
    "            Pattern_alpha = re.compile(r\"([A-Za-z])\\1{1,}\", re.DOTALL)\n",
    "            \n",
    "            #limit repetation of characters to two eg: Greeeeaaaatttt will be converted to Greeaatt\n",
    "            Formatted_text = Pattern_alpha.sub(r\"\\1\\1\", sentence) \n",
    "            Pattern_Punct = re.compile(r'([.,/#!$%^&*?;:{}=_`~()+-])\\1{1,}')\n",
    "            Combined_Formatted = Pattern_Punct.sub(r'\\1', Formatted_text)\n",
    "            sentence = re.sub(' {2,}',' ', Combined_Formatted)\n",
    "            \n",
    "            #Remove words with special characters, eg: G-R-E-A-T will be transformed to great.\n",
    "            sentence=re.sub(r\"[^a-zA-Z0-9:$-,%.?!]+\", ' ', sentence) \n",
    "            \n",
    "            # remove punctuation marks and numbers\n",
    "            for ch in punctuation+'0123456789$%-':\n",
    "                sentence = sentence.replace(ch,' ')\n",
    "            \n",
    "            #remove all characters less than or equal to two characters\n",
    "            sentence=re.sub(r'\\b\\w{1,2}\\b', '', sentence)\n",
    "               \n",
    "            \n",
    "            #Text lemmatization and stop words removal\n",
    "            sentence=stop_word_rem_and_lemmatization(sentence)\n",
    "            processed_text.append(sentence)\n",
    "            \n",
    "        return processed_text\n",
    "            "
   ]
  },
  {
   "cell_type": "code",
   "execution_count": 167,
   "id": "7133156e",
   "metadata": {},
   "outputs": [
    {
     "name": "stdout",
     "output_type": "stream",
     "text": [
      "interesting actual event place civil war vermont attention regret view haven read raid incident curious rebel pull enjoy historical era major complaint confederate uniform good acting little stiff like old mash potato teeth wounded soldier fetch hound little strange overall descent\n"
     ]
    }
   ],
   "source": [
    "train_data=preprocessData(f_train)\n",
    "print(train_data[2])"
   ]
  },
  {
   "cell_type": "code",
   "execution_count": 168,
   "id": "31ff1d03",
   "metadata": {},
   "outputs": [
    {
     "data": {
      "text/html": [
       "<div>\n",
       "<style scoped>\n",
       "    .dataframe tbody tr th:only-of-type {\n",
       "        vertical-align: middle;\n",
       "    }\n",
       "\n",
       "    .dataframe tbody tr th {\n",
       "        vertical-align: top;\n",
       "    }\n",
       "\n",
       "    .dataframe thead th {\n",
       "        text-align: right;\n",
       "    }\n",
       "</style>\n",
       "<table border=\"1\" class=\"dataframe\">\n",
       "  <thead>\n",
       "    <tr style=\"text-align: right;\">\n",
       "      <th></th>\n",
       "      <th>Rating</th>\n",
       "      <th>Review</th>\n",
       "    </tr>\n",
       "  </thead>\n",
       "  <tbody>\n",
       "    <tr>\n",
       "      <th>0</th>\n",
       "      <td>-1</td>\n",
       "      <td>bruce willis worth good skip television plunk ...</td>\n",
       "    </tr>\n",
       "    <tr>\n",
       "      <th>1</th>\n",
       "      <td>-1</td>\n",
       "      <td>slow molasses january alaska togeather preview...</td>\n",
       "    </tr>\n",
       "    <tr>\n",
       "      <th>2</th>\n",
       "      <td>-1</td>\n",
       "      <td>interesting actual event place civil war vermo...</td>\n",
       "    </tr>\n",
       "    <tr>\n",
       "      <th>3</th>\n",
       "      <td>-1</td>\n",
       "      <td>painfully obvious brilliant spoof naked gun ho...</td>\n",
       "    </tr>\n",
       "    <tr>\n",
       "      <th>4</th>\n",
       "      <td>+1</td>\n",
       "      <td>mixed bag concept good tense nice twist slow s...</td>\n",
       "    </tr>\n",
       "  </tbody>\n",
       "</table>\n",
       "</div>"
      ],
      "text/plain": [
       "  Rating                                             Review\n",
       "0     -1  bruce willis worth good skip television plunk ...\n",
       "1     -1  slow molasses january alaska togeather preview...\n",
       "2     -1  interesting actual event place civil war vermo...\n",
       "3     -1  painfully obvious brilliant spoof naked gun ho...\n",
       "4     +1  mixed bag concept good tense nice twist slow s..."
      ]
     },
     "execution_count": 168,
     "metadata": {},
     "output_type": "execute_result"
    }
   ],
   "source": [
    "import pandas as pd\n",
    "\n",
    "#load the data into dataframes\n",
    "d = {'Rating':ratings,'Review':train_data}\n",
    "df = pd.DataFrame(d)\n",
    "df.head()\n"
   ]
  },
  {
   "cell_type": "code",
   "execution_count": 169,
   "id": "33275169",
   "metadata": {},
   "outputs": [
    {
     "name": "stdout",
     "output_type": "stream",
     "text": [
      "19668\n",
      "5332\n"
     ]
    }
   ],
   "source": [
    "# split the training dataset into 80% training and 20% testing sets so that we can find the best model for given data\n",
    "import numpy as np\n",
    "index = df.index\n",
    "rand_num=np.random.randn(len(index))\n",
    "df['random_number'] = rand_num\n",
    "train = df[df['random_number'] <= 0.8]\n",
    "test = df[df['random_number'] > 0.8]\n",
    "print(len(train))\n",
    "print(len(test))\n"
   ]
  },
  {
   "cell_type": "code",
   "execution_count": 170,
   "id": "45c77ef8",
   "metadata": {},
   "outputs": [
    {
     "name": "stdout",
     "output_type": "stream",
     "text": [
      "(19668, 58630)\n"
     ]
    }
   ],
   "source": [
    "from sklearn.feature_extraction.text import CountVectorizer\n",
    "vectorizer_cnt = CountVectorizer(token_pattern=r'\\b\\w+\\b')\n",
    "train_matrix_cnt = vectorizer_cnt.fit_transform(train['Review'])\n",
    "test_matrix_cnt = vectorizer_cnt.transform(test['Review'])\n",
    "print(train_matrix_cnt.shape)"
   ]
  },
  {
   "cell_type": "code",
   "execution_count": 171,
   "id": "6e73c6cc",
   "metadata": {},
   "outputs": [
    {
     "name": "stdout",
     "output_type": "stream",
     "text": [
      "(19668, 15000)\n"
     ]
    }
   ],
   "source": [
    "from sklearn.feature_extraction.text import TfidfVectorizer\n",
    "from sklearn.metrics.pairwise import cosine_similarity\n",
    "vectorizer_tf=TfidfVectorizer(norm = 'l2',min_df = 0, use_idf = True, smooth_idf = False, sublinear_tf = True,\n",
    "                             ngram_range=(1,2), max_features = 15000,token_pattern=r'\\b\\w+\\b')\n",
    "\n",
    "train_matrix_tf_idf = vectorizer_tf.fit_transform(train['Review'])\n",
    "test_matrix_tf_idf = vectorizer_tf.transform(test['Review'])\n",
    "\n",
    "print((train_matrix_tf_idf.shape))"
   ]
  },
  {
   "cell_type": "code",
   "execution_count": 196,
   "id": "2f5a8779",
   "metadata": {},
   "outputs": [
    {
     "name": "stdout",
     "output_type": "stream",
     "text": [
      "(19668, 7000)\n"
     ]
    }
   ],
   "source": [
    "from sklearn.feature_selection import chi2,SelectKBest\n",
    "from matplotlib import pyplot as plt\n",
    "#chi2score = chi2(train_matrix, y_train)[0]\n",
    "ch2 = SelectKBest(chi2, k=7000)\n",
    "train_matrix_chi2 = ch2.fit_transform(train_matrix_tf_idf,train['Rating'])\n",
    "test_matrix_chi2 = ch2.transform(test_matrix_tf_idf)\n",
    "print(train_matrix_chi2.shape)"
   ]
  },
  {
   "cell_type": "code",
   "execution_count": 173,
   "id": "e8a17315",
   "metadata": {},
   "outputs": [],
   "source": [
    "X_train_vectorizors=[train_matrix_cnt,train_matrix_tf_idf,train_matrix_chi2]\n",
    "X_test_vectorizors=[test_matrix_cnt,test_matrix_tf_idf,test_matrix_chi2]\n",
    "X_labels=['Count Vectorizor','TF-IDF','TF-IDF + CHI2 ']\n"
   ]
  },
  {
   "cell_type": "code",
   "execution_count": 174,
   "id": "02d16e76",
   "metadata": {},
   "outputs": [],
   "source": [
    "y_train = train['Rating']\n",
    "y_test = test['Rating']"
   ]
  },
  {
   "cell_type": "code",
   "execution_count": 175,
   "id": "9171b8c4",
   "metadata": {},
   "outputs": [
    {
     "name": "stdout",
     "output_type": "stream",
     "text": [
      "----------------------------------------------\n",
      "FOR VECTORIZOR Count Vectorizor\n",
      "\n",
      "Classification Report for metric = euclidean is:\n",
      "\n",
      "              precision    recall  f1-score   support\n",
      "\n",
      "          +1       0.56      0.98      0.71      2642\n",
      "          -1       0.92      0.24      0.39      2690\n",
      "\n",
      "    accuracy                           0.61      5332\n",
      "   macro avg       0.74      0.61      0.55      5332\n",
      "weighted avg       0.74      0.61      0.55      5332\n",
      "\n",
      "\n",
      "Classification Report for metric = cosine is:\n",
      "\n",
      "              precision    recall  f1-score   support\n",
      "\n",
      "          +1       0.82      0.66      0.73      2642\n",
      "          -1       0.72      0.86      0.78      2690\n",
      "\n",
      "    accuracy                           0.76      5332\n",
      "   macro avg       0.77      0.76      0.76      5332\n",
      "weighted avg       0.77      0.76      0.76      5332\n",
      "\n",
      "----------------------------------------------\n",
      "FOR VECTORIZOR TF-IDF\n",
      "\n",
      "Classification Report for metric = euclidean is:\n",
      "\n",
      "              precision    recall  f1-score   support\n",
      "\n",
      "          +1       0.85      0.83      0.84      2642\n",
      "          -1       0.84      0.85      0.84      2690\n",
      "\n",
      "    accuracy                           0.84      5332\n",
      "   macro avg       0.84      0.84      0.84      5332\n",
      "weighted avg       0.84      0.84      0.84      5332\n",
      "\n",
      "\n",
      "Classification Report for metric = cosine is:\n",
      "\n",
      "              precision    recall  f1-score   support\n",
      "\n",
      "          +1       0.85      0.83      0.84      2642\n",
      "          -1       0.84      0.85      0.84      2690\n",
      "\n",
      "    accuracy                           0.84      5332\n",
      "   macro avg       0.84      0.84      0.84      5332\n",
      "weighted avg       0.84      0.84      0.84      5332\n",
      "\n",
      "----------------------------------------------\n",
      "FOR VECTORIZOR TF-IDF + CHI2 \n",
      "\n",
      "Classification Report for metric = euclidean is:\n",
      "\n",
      "              precision    recall  f1-score   support\n",
      "\n",
      "          +1       0.59      1.00      0.74      2642\n",
      "          -1       0.99      0.33      0.49      2690\n",
      "\n",
      "    accuracy                           0.66      5332\n",
      "   macro avg       0.79      0.66      0.62      5332\n",
      "weighted avg       0.79      0.66      0.62      5332\n",
      "\n",
      "\n",
      "Classification Report for metric = cosine is:\n",
      "\n",
      "              precision    recall  f1-score   support\n",
      "\n",
      "          +1       0.85      0.84      0.85      2642\n",
      "          -1       0.85      0.85      0.85      2690\n",
      "\n",
      "    accuracy                           0.85      5332\n",
      "   macro avg       0.85      0.85      0.85      5332\n",
      "weighted avg       0.85      0.85      0.85      5332\n",
      "\n"
     ]
    }
   ],
   "source": [
    "from sklearn.neighbors import KNeighborsClassifier \n",
    "from sklearn import metrics\n",
    "from sklearn.metrics import confusion_matrix,classification_report\n",
    "import seaborn as sns\n",
    "acc_list=[]\n",
    "prec_list=[]\n",
    "f1_list=[]\n",
    "acc_all_model=[]\n",
    "k=1900\n",
    "cat_names = ['True -ve','False +ve','False -ve','True +ve']\n",
    "\n",
    "for i in range(3):\n",
    "    X_train = X_train_vectorizors[i]\n",
    "    X_test = X_test_vectorizors[i]\n",
    "    print(\"----------------------------------------------\")\n",
    "    print(\"FOR VECTORIZOR \"+X_labels[i])\n",
    "\n",
    "    for m in [#'manhattan',\n",
    "              'euclidean','cosine']:\n",
    "\n",
    "        classifier = KNeighborsClassifier(n_neighbors=k,algorithm='auto',metric=m) #Using brute-force algorithm for quicker computation.\n",
    "        classifier.fit(X_train, y_train) #Fitting the built-in sklearn classifier on our training data\n",
    "        predicted_label = classifier.predict(X_test) #Making the classifier to predict on the previously unseen test data.\n",
    "\n",
    "        confusion_mat = confusion_matrix(y_test, predicted_label)\n",
    "        class_report = classification_report(y_test, predicted_label)\n",
    "        class_report_dict = classification_report(y_test, predicted_label,output_dict=True)\n",
    "        acc_list.append({m:np.round(class_report_dict['accuracy']*100,2)})\n",
    "        f1_list.append({m:np.round(class_report_dict['weighted avg']['f1-score']*100,2)})\n",
    "        prec_list.append({m:np.round(class_report_dict['weighted avg']['precision']*100,2)})\n",
    "        if(i==2 and m=='cosine'):\n",
    "            acc_all_model.append({'knn':np.round(class_report_dict['accuracy']*100,2)})\n",
    "        print(\"\\nClassification Report for metric = {} is:\\n\".format(m))\n",
    "        print(class_report)"
   ]
  },
  {
   "cell_type": "code",
   "execution_count": 176,
   "id": "c9e990a4",
   "metadata": {},
   "outputs": [
    {
     "name": "stdout",
     "output_type": "stream",
     "text": [
      "[{'euclidean': 60.77}, {'cosine': 75.98}, {'euclidean': 84.11}, {'cosine': 84.11}, {'euclidean': 66.0}, {'cosine': 84.81}]\n",
      "[{'knn': 84.81}]\n"
     ]
    }
   ],
   "source": [
    "print(acc_list)\n",
    "print(acc_all_model)"
   ]
  },
  {
   "cell_type": "code",
   "execution_count": 177,
   "id": "6cc885b6",
   "metadata": {},
   "outputs": [
    {
     "data": {
      "text/html": [
       "<style  type=\"text/css\" >\n",
       "#T_1fb73_row1_col0,#T_1fb73_row2_col1{\n",
       "            background-color:  lightblue;\n",
       "        }</style><table id=\"T_1fb73_\" ><thead>    <tr>        <th class=\"blank level0\" ></th>        <th class=\"col_heading level0 col0\" >euclidean</th>        <th class=\"col_heading level0 col1\" >cosine</th>    </tr></thead><tbody>\n",
       "                <tr>\n",
       "                        <th id=\"T_1fb73_level0_row0\" class=\"row_heading level0 row0\" >Count Vectorizor</th>\n",
       "                        <td id=\"T_1fb73_row0_col0\" class=\"data row0 col0\" >60.770000</td>\n",
       "                        <td id=\"T_1fb73_row0_col1\" class=\"data row0 col1\" >75.980000</td>\n",
       "            </tr>\n",
       "            <tr>\n",
       "                        <th id=\"T_1fb73_level0_row1\" class=\"row_heading level0 row1\" >TF-IDF</th>\n",
       "                        <td id=\"T_1fb73_row1_col0\" class=\"data row1 col0\" >84.110000</td>\n",
       "                        <td id=\"T_1fb73_row1_col1\" class=\"data row1 col1\" >84.110000</td>\n",
       "            </tr>\n",
       "            <tr>\n",
       "                        <th id=\"T_1fb73_level0_row2\" class=\"row_heading level0 row2\" >TF-IDF + CHI2 </th>\n",
       "                        <td id=\"T_1fb73_row2_col0\" class=\"data row2 col0\" >66.000000</td>\n",
       "                        <td id=\"T_1fb73_row2_col1\" class=\"data row2 col1\" >84.810000</td>\n",
       "            </tr>\n",
       "    </tbody></table>"
      ],
      "text/plain": [
       "<pandas.io.formats.style.Styler at 0x1f3ff9be1c0>"
      ]
     },
     "execution_count": 177,
     "metadata": {},
     "output_type": "execute_result"
    }
   ],
   "source": [
    "#comparision of accuracy of different knn models\n",
    "df_acc=pd.DataFrame(acc_list)\n",
    "df_acc = df_acc.apply(lambda x: pd.Series(x.dropna().values))\n",
    "df_acc.index=X_labels\n",
    "df_acc.style.highlight_max(color = 'lightblue', axis = 0)\n"
   ]
  },
  {
   "cell_type": "code",
   "execution_count": 178,
   "id": "a849c21a",
   "metadata": {},
   "outputs": [
    {
     "data": {
      "text/html": [
       "<style  type=\"text/css\" >\n",
       "#T_961cd_row1_col0,#T_961cd_row2_col1{\n",
       "            background-color:  lightblue;\n",
       "        }</style><table id=\"T_961cd_\" ><thead>    <tr>        <th class=\"blank level0\" ></th>        <th class=\"col_heading level0 col0\" >euclidean</th>        <th class=\"col_heading level0 col1\" >cosine</th>    </tr></thead><tbody>\n",
       "                <tr>\n",
       "                        <th id=\"T_961cd_level0_row0\" class=\"row_heading level0 row0\" >Count Vectorizor</th>\n",
       "                        <td id=\"T_961cd_row0_col0\" class=\"data row0 col0\" >73.960000</td>\n",
       "                        <td id=\"T_961cd_row0_col1\" class=\"data row0 col1\" >76.930000</td>\n",
       "            </tr>\n",
       "            <tr>\n",
       "                        <th id=\"T_961cd_level0_row1\" class=\"row_heading level0 row1\" >TF-IDF</th>\n",
       "                        <td id=\"T_961cd_row1_col0\" class=\"data row1 col0\" >84.120000</td>\n",
       "                        <td id=\"T_961cd_row1_col1\" class=\"data row1 col1\" >84.120000</td>\n",
       "            </tr>\n",
       "            <tr>\n",
       "                        <th id=\"T_961cd_level0_row2\" class=\"row_heading level0 row2\" >TF-IDF + CHI2 </th>\n",
       "                        <td id=\"T_961cd_row2_col0\" class=\"data row2 col0\" >79.240000</td>\n",
       "                        <td id=\"T_961cd_row2_col1\" class=\"data row2 col1\" >84.810000</td>\n",
       "            </tr>\n",
       "    </tbody></table>"
      ],
      "text/plain": [
       "<pandas.io.formats.style.Styler at 0x1f3cb38d6a0>"
      ]
     },
     "execution_count": 178,
     "metadata": {},
     "output_type": "execute_result"
    }
   ],
   "source": [
    "df_prec=pd.DataFrame(prec_list)\n",
    "df_prec = df_prec.apply(lambda x: pd.Series(x.dropna().values))\n",
    "df_prec.index=X_labels\n",
    "df_prec.style.highlight_max(color = 'lightblue', axis = 0)"
   ]
  },
  {
   "cell_type": "code",
   "execution_count": 179,
   "id": "936cc969",
   "metadata": {},
   "outputs": [
    {
     "data": {
      "text/plain": [
       "<matplotlib.axes._subplots.AxesSubplot at 0x1f3d666f5e0>"
      ]
     },
     "execution_count": 179,
     "metadata": {},
     "output_type": "execute_result"
    },
    {
     "data": {
      "image/png": "[encoded data removed]",
      "text/plain": [
       "<Figure size 540x252 with 2 Axes>"
      ]
     },
     "metadata": {
      "needs_background": "light"
     },
     "output_type": "display_data"
    }
   ],
   "source": [
    "# confusion matrix for TF-IDF+ chi square and cosine distance\n",
    "\n",
    "import seaborn as sns\n",
    "cat_names = ['True -ve','False +ve','False -ve','True +ve']\n",
    "cat_counts = [\"{0:0.0f}\".format(value) for value in\n",
    "                confusion_mat.flatten()]\n",
    "cat_percentages = [\"{0:.2%}\".format(value) for value in\n",
    "                     confusion_mat.flatten()/np.sum(confusion_mat)]\n",
    "labels = [f'{v1}\\n{v2}\\n{v3}' for v1, v2, v3 in\n",
    "          zip(cat_names,cat_counts,cat_percentages)]\n",
    "labels = np.asarray(labels).reshape(2,2)\n",
    "sns.heatmap(confusion_mat/np.sum(confusion_mat), annot=labels,fmt='', cmap='Blues')"
   ]
  },
  {
   "cell_type": "code",
   "execution_count": 197,
   "id": "a3ee6615",
   "metadata": {},
   "outputs": [],
   "source": [
    "from sklearn.linear_model import LogisticRegression\n",
    "lr = LogisticRegression()\n",
    "lr.fit(train_matrix_chi2,y_train)\n",
    "predictions_lr = lr.predict(test_matrix_chi2)"
   ]
  },
  {
   "cell_type": "code",
   "execution_count": 198,
   "id": "1f411d34",
   "metadata": {},
   "outputs": [
    {
     "name": "stdout",
     "output_type": "stream",
     "text": [
      "              precision    recall  f1-score   support\n",
      "\n",
      "          +1       0.91      0.86      0.88      2815\n",
      "          -1       0.85      0.91      0.88      2517\n",
      "\n",
      "    accuracy                           0.88      5332\n",
      "   macro avg       0.88      0.88      0.88      5332\n",
      "weighted avg       0.88      0.88      0.88      5332\n",
      "\n"
     ]
    }
   ],
   "source": [
    "print(classification_report(predictions_lr,y_test))\n",
    "class_report_dict_lr = classification_report(y_test, predictions_lr,output_dict=True)\n",
    "acc_all_model.append({'logistic Regression':np.round(class_report_dict_lr['accuracy']*100,2)})"
   ]
  },
  {
   "cell_type": "code",
   "execution_count": 182,
   "id": "5ffaa78c",
   "metadata": {},
   "outputs": [],
   "source": [
    "from sklearn import svm\n",
    "#svm = svm.SVC(probability=True, kernel=\"linear\")\n",
    "#svm.fit(train_matrix_chi2,y_train)\n",
    "#prediction_svm = svm.predict(test_matrix_chi2)"
   ]
  },
  {
   "cell_type": "code",
   "execution_count": 183,
   "id": "377e1a6d",
   "metadata": {},
   "outputs": [
    {
     "name": "stdout",
     "output_type": "stream",
     "text": [
      "              precision    recall  f1-score   support\n",
      "\n",
      "          +1       0.90      0.86      0.88      2784\n",
      "          -1       0.85      0.90      0.87      2548\n",
      "\n",
      "    accuracy                           0.88      5332\n",
      "   macro avg       0.88      0.88      0.88      5332\n",
      "weighted avg       0.88      0.88      0.88      5332\n",
      "\n"
     ]
    }
   ],
   "source": [
    "#print(classification_report(prediction_svm,y_test))\n",
    "#class_report_dict_svm = classification_report(y_test, prediction_svm,output_dict=True)\n",
    "#acc_all_model.append({'SVM':np.round(class_report_dict_svm['accuracy']*100,2)})"
   ]
  },
  {
   "cell_type": "code",
   "execution_count": 184,
   "id": "7085d614",
   "metadata": {},
   "outputs": [
    {
     "name": "stdout",
     "output_type": "stream",
     "text": [
      "              precision    recall  f1-score   support\n",
      "\n",
      "          +1       0.89      0.85      0.87      2773\n",
      "          -1       0.84      0.89      0.86      2559\n",
      "\n",
      "    accuracy                           0.87      5332\n",
      "   macro avg       0.87      0.87      0.87      5332\n",
      "weighted avg       0.87      0.87      0.87      5332\n",
      "\n"
     ]
    }
   ],
   "source": [
    "from sklearn.naive_bayes import MultinomialNB\n",
    "nby = MultinomialNB()\n",
    "nby.fit(train_matrix_chi2,y_train)\n",
    "predictions_nbm=nby.predict(test_matrix_chi2)\n",
    "print(classification_report(predictions_nbm,y_test))\n",
    "class_report_dict_nb = classification_report(y_test, prediction_svm,output_dict=True)\n",
    "acc_all_model.append({'Naive Bayes':np.round(class_report_dict_nb['accuracy']*100,2)})"
   ]
  },
  {
   "cell_type": "code",
   "execution_count": 185,
   "id": "eb1b42a6",
   "metadata": {},
   "outputs": [
    {
     "data": {
      "text/plain": [
       "<matplotlib.axes._subplots.AxesSubplot at 0x1f3ccfbba00>"
      ]
     },
     "execution_count": 185,
     "metadata": {},
     "output_type": "execute_result"
    },
    {
     "data": {
      "image/png": "[encoded data removed]",
      "text/plain": [
       "<Figure size 540x252 with 2 Axes>"
      ]
     },
     "metadata": {
      "needs_background": "light"
     },
     "output_type": "display_data"
    }
   ],
   "source": [
    "confusion_mat_lr = confusion_matrix(y_test, predictions_lr)\n",
    "import seaborn as sns\n",
    "cat_names = ['True -ve','False +ve','False -ve','True +ve']\n",
    "cat_counts = [\"{0:0.0f}\".format(value) for value in\n",
    "                confusion_mat_lr.flatten()]\n",
    "cat_percentages = [\"{0:.2%}\".format(value) for value in\n",
    "                     confusion_mat_lr.flatten()/np.sum(confusion_mat_lr)]\n",
    "labels = [f'{v1}\\n{v2}\\n{v3}' for v1, v2, v3 in\n",
    "          zip(cat_names,cat_counts,cat_percentages)]\n",
    "labels = np.asarray(labels).reshape(2,2)\n",
    "sns.heatmap(confusion_mat_lr/np.sum(confusion_mat_lr), annot=labels,fmt='', cmap='Blues')"
   ]
  },
  {
   "cell_type": "code",
   "execution_count": 186,
   "id": "77d40ce9",
   "metadata": {},
   "outputs": [
    {
     "name": "stdout",
     "output_type": "stream",
     "text": [
      "[{'knn': 84.81}, {'logistic Regression': 87.53}, {'SVM': 87.66}, {'Naive Bayes': 87.66}]\n",
      "[84.81, 87.53, 87.66, 87.66]\n",
      "{'Naive Bayes', 'knn', 'SVM', 'logistic Regression'}\n"
     ]
    }
   ],
   "source": [
    "print(acc_all_model)\n",
    "classifiers_keys = set().union(*(d.keys() for d in acc_all_model))\n",
    "classifier_pers=[]\n",
    "for index in range(len(acc_all_model)):\n",
    "    for key in acc_all_model[index]:\n",
    "        classifier_pers.append(acc_all_model[index][key])\n",
    "\n",
    "#classifier_pers= list().extend(*(d.values() for d in acc_all_model))\n",
    "print(classifier_pers)\n",
    "print(classifiers_keys)"
   ]
  },
  {
   "cell_type": "code",
   "execution_count": 188,
   "id": "265fa695",
   "metadata": {},
   "outputs": [
    {
     "data": {
      "image/png": "[encoded data removed]",
      "text/plain": [
       "<Figure size 540x252 with 1 Axes>"
      ]
     },
     "metadata": {
      "needs_background": "light"
     },
     "output_type": "display_data"
    }
   ],
   "source": [
    "from matplotlib import pyplot as plt\n",
    "import numpy as np\n",
    "\n",
    "plt.rcParams[\"figure.figsize\"] = [7.50, 3.50]\n",
    "plt.rcParams[\"figure.autolayout\"] = True\n",
    "x = ['knn','Naive Bayes','SVM','Logistic Regression']\n",
    "y = classifier_pers\n",
    "\n",
    "width = 0.35\n",
    "fig, ax = plt.subplots()\n",
    "\n",
    "pps = ax.bar(x, y, width, align='center')\n",
    "\n",
    "for p in pps:\n",
    "   height = p.get_height()\n",
    "   ax.text(x=p.get_x() + p.get_width() / 2, y=height+.10,\n",
    "      s=\"{}%\".format(height),\n",
    "      ha='center')\n",
    "\n",
    "plt.show()"
   ]
  },
  {
   "cell_type": "code",
   "execution_count": 189,
   "id": "1fafd965",
   "metadata": {},
   "outputs": [],
   "source": [
    "# Logistic Regression along with tf-id+chi-square yeilded the best result\n",
    "# We will use the above combination to predict test data\n",
    "f_test = open('./data/test.dat',encoding=\"utf-8\")\n",
    "test_data=preprocessData(f_test)\n",
    "\n"
   ]
  },
  {
   "cell_type": "code",
   "execution_count": 190,
   "id": "85731c3a",
   "metadata": {},
   "outputs": [
    {
     "name": "stdout",
     "output_type": "stream",
     "text": [
      "(25000, 15000)\n",
      "4970\n"
     ]
    }
   ],
   "source": [
    "vectorizer_tf_test=TfidfVectorizer(norm = 'l2',min_df = 0, use_idf = True, smooth_idf = False, sublinear_tf = True,\n",
    "                             ngram_range=(1,2), max_features = 40000,token_pattern=r'\\b\\w+\\b')\n",
    "\n",
    "train_matrix_tf_idf_act = vectorizer_tf_test.fit_transform(train_data)\n",
    "test_matrix_tf_idf_act = vectorizer_tf_test.transform(test_data)\n",
    "print(train_matrix_tf_idf_act.shape)\n",
    "\n",
    "ch2_act = SelectKBest(chi2, k=30000)\n",
    "train_matrix_chi2_act = ch2_act.fit_transform(train_matrix_tf_idf_act, ratings)\n",
    "test_matrix_chi2_act = ch2_act.transform(test_matrix_tf_idf_act)\n",
    "print(train_matrix_chi2_act.shape[1])\n",
    "#k=1900\n",
    "#knnClassifier = KNeighborsClassifier(n_neighbors=k,algorithm='auto',metric='cosine')\n",
    "#knnClassifier.fit(train_matrix_chi2_act, ratings)\n",
    "#predictions = knnClassifier.predict(test_matrix_chi2_act)\n",
    "lr_clf = LogisticRegression()\n",
    "lr_clf.fit(train_matrix_chi2_act,ratings)\n",
    "predictions_lr_clf = lr_clf.predict(test_matrix_chi2_act)\n",
    "\n",
    "f_test.close()"
   ]
  },
  {
   "cell_type": "code",
   "execution_count": 191,
   "id": "f4b8fb3f",
   "metadata": {},
   "outputs": [
    {
     "name": "stdout",
     "output_type": "stream",
     "text": [
      "['+1' '+1' '+1' ... '+1' '+1' '-1']\n"
     ]
    }
   ],
   "source": [
    "print(predictions_lr_clf)"
   ]
  },
  {
   "cell_type": "code",
   "execution_count": 192,
   "id": "a1bc4f8e",
   "metadata": {},
   "outputs": [],
   "source": [
    "predict_file=open(\"./data/predictions_lr_07.dat\",\"w\")\n",
    "for val in predictions_lr_clf:\n",
    "    predict_file.write(val+\"\\n\")\n",
    "predict_file.close()"
   ]
  },
  {
   "cell_type": "code",
   "execution_count": null,
   "id": "d41d5531",
   "metadata": {},
   "outputs": [],
   "source": []
  }
 ],
 "metadata": {
  "kernelspec": {
   "display_name": "Python 3",
   "language": "python",
   "name": "python3"
  },
  "language_info": {
   "codemirror_mode": {
    "name": "ipython",
    "version": 3
   },
   "file_extension": ".py",
   "mimetype": "text/x-python",
   "name": "python",
   "nbconvert_exporter": "python",
   "pygments_lexer": "ipython3",
   "version": "3.8.8"
  }
 },
 "nbformat": 4,
 "nbformat_minor": 5
}
